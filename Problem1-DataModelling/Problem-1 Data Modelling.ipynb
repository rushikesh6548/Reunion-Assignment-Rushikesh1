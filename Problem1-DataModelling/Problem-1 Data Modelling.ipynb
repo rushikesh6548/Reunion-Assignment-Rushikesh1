{
 "cells": [
  {
   "cell_type": "markdown",
   "id": "75600942",
   "metadata": {},
   "source": [
    "## Problem 1 : Data Modelling \n",
    "\n",
    "Imagine you are designing a database for an e-commerce platform. The database should store information about products, customers, orders, and order items. Each order can contain multiple order items, and each order item is associated with a specific product. Each customer can have multiple orders. Customer details such as shipping address, contact number etc. can change over time. We want to retain the historical information as well in our schema.\n",
    "\n",
    "1. Design a **star-schema / snowflake schema model** for the above requirements\n",
    "    1. Use an entity-relationship diagram (ERD) that represents the relationships between these entities\n",
    "    2. Include the necessary attributes and primary/foreign key relationships. Briefly explain your design choices.\n",
    "2. Generate and insert sample data in the above model. Include the process and code of generating random data in your submission. You data should have:\n",
    "    1. At least 2 years of order history\n",
    "    2. At least 10 products; at least 2 products with variants.\n",
    "    3. At least 10 customers"
   ]
  },
  {
   "cell_type": "markdown",
   "id": "35c3645a",
   "metadata": {},
   "source": [
    "### Part 1: Designing \n"
   ]
  },
  {
   "cell_type": "markdown",
   "id": "6340d7a2",
   "metadata": {},
   "source": [
    "First we list down all the entities that we have to include \n",
    "\n",
    "Entities :\n",
    "\n",
    "**products** - All the products in our platform\n",
    "\n",
    "**Customers** - Platform's customers \n",
    "\n",
    "**Orders** - The orders that a customer places \n",
    "\n",
    "**OrderItems** - The product that a particular order contains \n",
    "\n",
    "Conditions : \n",
    "\n",
    "Each order can have multiple order items and each order item is associated with a specific product\n",
    "\n",
    "Each customer can have multiple orders. Customer details such as shipping address, contact number etc. can change over time"
   ]
  },
  {
   "cell_type": "markdown",
   "id": "946d7d39",
   "metadata": {},
   "source": [
    "## Relationship between Entities : "
   ]
  },
  {
   "attachments": {},
   "cell_type": "markdown",
   "id": "ad1310eb",
   "metadata": {},
   "source": [
    "**Customer - Orders** : One Customer can have multiple orders but one order can be of one and a particular customer \n",
    "[One - Many]\n",
    "\n",
    "**Orders-Items** : One Order can have multiple orders as well as a particular order can be present in multiple orders \n",
    "[Many - One]\n",
    "\n",
    "**Item-Products**: A particular item is associated with a specific product .\n",
    "[One - One]\n",
    "\n",
    "**Customer-Address** - A customer can have multiple addresses but one exact address can be of that one particular customer \n",
    "[One-Many]\n",
    "\n",
    "**Customer-Contacts** - A customer can have multiple contacts but one exact contact no can be of that one particular customer\n",
    "[One-Many]\n",
    "\n",
    "\n",
    "\n",
    "Hence we draw the Entity Relationship Diagram as Follows : \n",
    "\n",
    "![Image Description](https://storage.googleapis.com/reunion-task/All-files/ER_diagram-1.png)\n",
    "\n",
    "\n",
    "\n",
    "And the Star Schema will look like : \n",
    "![SchemDiagram](https://storage.googleapis.com/reunion-task/All-files/SnowFlakeSchema.jpg)\n",
    "\n",
    "\n",
    "\n"
   ]
  },
  {
   "cell_type": "markdown",
   "id": "22de024d",
   "metadata": {},
   "source": [
    "### Part 2: Generating Data \n"
   ]
  },
  {
   "cell_type": "code",
   "execution_count": 1,
   "id": "2c965c72",
   "metadata": {},
   "outputs": [
    {
     "name": "stdout",
     "output_type": "stream",
     "text": [
      "Requirement already satisfied: mysql-connector-python in c:\\users\\admin\\anaconda3\\lib\\site-packages (8.0.31)\n",
      "Requirement already satisfied: protobuf<=3.20.1,>=3.11.0 in c:\\users\\admin\\anaconda3\\lib\\site-packages (from mysql-connector-python) (3.19.5)\n",
      "Note: you may need to restart the kernel to use updated packages.\n"
     ]
    }
   ],
   "source": [
    "pip install mysql-connector-python"
   ]
  },
  {
   "cell_type": "code",
   "execution_count": 2,
   "id": "2aa49249",
   "metadata": {},
   "outputs": [
    {
     "name": "stdout",
     "output_type": "stream",
     "text": [
      "('ecommercedb',)\n",
      "('information_schema',)\n",
      "('mysql',)\n",
      "('performance_schema',)\n",
      "('sys',)\n"
     ]
    }
   ],
   "source": [
    "import mysql.connector  \n",
    "import datetime\n",
    "import random\n",
    "#Creating the connection object   \n",
    "cnx = mysql.connector.connect(\n",
    "    host='34.71.225.65',\n",
    "    user='root'\n",
    ")\n",
    "  \n",
    "#creating the cursor object  \n",
    "cur = cnx.cursor()  \n",
    "  \n",
    "try:  \n",
    "    dbs = cur.execute(\"show databases\")  \n",
    "except:  \n",
    "    myconn.rollback()  \n",
    "for x in cur:  \n",
    "    print(x)  \n",
    "\n",
    "# Enable autocommit mode\n",
    "cnx.autocommit = True\n"
   ]
  },
  {
   "cell_type": "code",
   "execution_count": null,
   "id": "4f4911fe",
   "metadata": {},
   "outputs": [],
   "source": [
    "cur.execute(\"\"\"create database ecommercedb\"\"\")"
   ]
  },
  {
   "cell_type": "code",
   "execution_count": 3,
   "id": "04e227c7",
   "metadata": {},
   "outputs": [],
   "source": [
    "cur.execute(\"\"\"use ecommercedb\"\"\")"
   ]
  },
  {
   "cell_type": "code",
   "execution_count": 190,
   "id": "bf3f8150",
   "metadata": {},
   "outputs": [],
   "source": [
    "# Creating all the tables with the necessary foreign key and primary key constraints according to our Schema diagram :\n",
    "\n",
    "cur.execute(\"\"\"CREATE TABLE Products (\n",
    "product_id int PRIMARY KEY NOT NULL,\n",
    "product_name VARCHAR(255),\n",
    "product_price VARCHAR(255),\n",
    "product_category VARCHAR(255)\n",
    "\n",
    "\n",
    "\n",
    ")\"\"\")\n",
    "\n",
    "\n",
    "\n",
    "cur.execute(\"\"\"CREATE TABLE Customers(\n",
    "cust_id int PRIMARY KEY NOT NULL,\n",
    "cust_name VARCHAR(255),\n",
    "cust_email VARCHAR(255));\n",
    "\"\"\")\n",
    "\n",
    "cur.execute(\"\"\"CREATE TABLE Orders(\n",
    "order_id INT PRIMARY KEY NOT NULL,\n",
    "cust_id INT,\n",
    "foreign key(cust_id) REFERENCES Customers(cust_id));\"\"\")\n",
    "\n",
    "cur.execute(\"\"\"CREATE TABLE Contacts(\n",
    "contact_id INT PRIMARY KEY NOT NULL,\n",
    "cust_id Int,\n",
    "FOREIGN key(cust_id) references Customers(cust_id));\"\"\")\n",
    "\n",
    "cur.execute(\"\"\"CREATE TABLE Address(\n",
    "address int PRIMARY KEY NOT NULL,\n",
    "cust_id Int,\n",
    "FOREIGN key(cust_id) references Customers(cust_id));\n",
    "\"\"\")\n",
    "\n",
    "cur.execute(\"\"\"CREATE TABLE Order_item(\n",
    "order_item_id INT PRIMARY KEY NOT NULL,\n",
    "order_id INT ,\n",
    "product_id INT ,\n",
    "order_quantity INT ,\n",
    "FOREIGN KEY (order_id) references Orders(order_id),\n",
    "FOREIGN KEY (product_id) references Products(product_id));\n",
    "\"\"\")"
   ]
  },
  {
   "cell_type": "code",
   "execution_count": 207,
   "id": "3645e6d1",
   "metadata": {},
   "outputs": [],
   "source": [
    "cur.execute(\"show tables;\")"
   ]
  },
  {
   "cell_type": "code",
   "execution_count": 208,
   "id": "5174e9a6",
   "metadata": {},
   "outputs": [
    {
     "data": {
      "text/plain": [
       "[('Address',),\n",
       " ('Contacts',),\n",
       " ('Customers',),\n",
       " ('Order_item',),\n",
       " ('Orders',),\n",
       " ('Products',)]"
      ]
     },
     "execution_count": 208,
     "metadata": {},
     "output_type": "execute_result"
    }
   ],
   "source": [
    "cur.fetchall()"
   ]
  },
  {
   "cell_type": "code",
   "execution_count": 197,
   "id": "04d6b703",
   "metadata": {},
   "outputs": [],
   "source": [
    "cur.execute(\"\"\"ALTER TABLE Orders ADD order_date Datetime ;\n",
    "\"\"\")"
   ]
  },
  {
   "cell_type": "code",
   "execution_count": 198,
   "id": "f6cc00ad",
   "metadata": {},
   "outputs": [],
   "source": [
    "# Changing the name of the column due to a mistake and adding a new column named city \n",
    "\n",
    "cur.execute(\"\"\"\n",
    "ALTER TABLE Address CHANGE address address_id INT;\n",
    "ALTER TABLE Address ADD city VARCHAR(255);\"\"\")"
   ]
  },
  {
   "cell_type": "code",
   "execution_count": 19,
   "id": "2f1d5cc7",
   "metadata": {},
   "outputs": [
    {
     "data": {
      "text/plain": [
       "[(1, 'Customer1', 'Customer1@example.com'),\n",
       " (2, 'Customer2', 'Customer2@example.com'),\n",
       " (3, 'Customer3', 'Customer3@example.com'),\n",
       " (4, 'Customer4', 'Customer4@example.com'),\n",
       " (5, 'Customer5', 'Customer5@example.com'),\n",
       " (6, 'Customer6', 'Customer6@example.com'),\n",
       " (7, 'Customer7', 'Customer7@example.com'),\n",
       " (8, 'Customer8', 'Customer8@example.com'),\n",
       " (9, 'Customer9', 'Customer9@example.com'),\n",
       " (10, 'Customer10', 'Customer10@example.com')]"
      ]
     },
     "execution_count": 19,
     "metadata": {},
     "output_type": "execute_result"
    }
   ],
   "source": [
    "# Generating Random Data : \n",
    "# let us generate customers : \n",
    "\n",
    "customers = []\n",
    "for i in range(1,11):\n",
    "    customer_id = i\n",
    "    customer_name = \"Customer\" + str(i)\n",
    "    customer_email = customer_name + \"@example.com\"\n",
    "    customers.append((customer_id,customer_name, customer_email))\n",
    "\n",
    "\n",
    "customers"
   ]
  },
  {
   "cell_type": "code",
   "execution_count": 15,
   "id": "14c263bf",
   "metadata": {},
   "outputs": [
    {
     "data": {
      "text/plain": [
       "[(1, 'Product9', '206', 'Apparel'),\n",
       " (2, 'Product2', '558', 'Home Goods'),\n",
       " (3, 'Product8', '701', 'Electronics'),\n",
       " (4, 'Product1', '450', 'Apparel'),\n",
       " (5, 'Product1', '495', 'Apparel'),\n",
       " (6, 'Product11', '411', 'Electronics'),\n",
       " (7, 'Product5', '552', 'Electronics'),\n",
       " (8, 'Product2', '138', 'Home Goods'),\n",
       " (9, 'Product3', '541', 'Apparel'),\n",
       " (10, 'Product4', '942', 'Apparel')]"
      ]
     },
     "execution_count": 15,
     "metadata": {},
     "output_type": "execute_result"
    }
   ],
   "source": [
    "# Generating Random Products with 3 categories\n",
    "products = []\n",
    "for i in range(1,11):\n",
    "    product_id = i\n",
    "    product_name = \"Product\" + str(random.randint(1,11))\n",
    "    product_price = str(random.randint(10, 1000))\n",
    "    product_category = random.choice([\"Electronics\", \"Apparel\", \"Home Goods\"])\n",
    "    products.append((product_id,product_name, product_price, product_category))\n",
    "    \n",
    "products"
   ]
  },
  {
   "cell_type": "code",
   "execution_count": 41,
   "id": "746e9fd6",
   "metadata": {},
   "outputs": [],
   "source": [
    "orders = []\n",
    "for i in range(1,101):\n",
    "    order_id = i\n",
    "    cust_id = random.randint(1,9)\n",
    "    order_date = str(datetime.datetime.now() - datetime.timedelta(days=random.randint(1,365)))\n",
    "    order_date = order_date[:10]\n",
    "    orders.append((order_id, cust_id, order_date))"
   ]
  },
  {
   "cell_type": "code",
   "execution_count": 225,
   "id": "57815b14",
   "metadata": {},
   "outputs": [
    {
     "data": {
      "text/plain": [
       "[(1, 2, '2022-09-16'),\n",
       " (2, 8, '2022-10-31'),\n",
       " (3, 8, '2022-11-04'),\n",
       " (4, 8, '2023-04-05'),\n",
       " (5, 4, '2022-07-21'),\n",
       " (6, 1, '2022-08-16'),\n",
       " (7, 10, '2023-03-07'),\n",
       " (8, 1, '2022-10-30'),\n",
       " (9, 3, '2022-12-08'),\n",
       " (10, 4, '2022-10-13'),\n",
       " (11, 9, '2023-04-04'),\n",
       " (12, 8, '2022-11-05'),\n",
       " (13, 9, '2022-07-26'),\n",
       " (14, 6, '2022-08-15'),\n",
       " (15, 5, '2022-10-11'),\n",
       " (16, 7, '2023-01-01'),\n",
       " (17, 8, '2022-08-27'),\n",
       " (18, 8, '2023-02-11'),\n",
       " (19, 8, '2022-07-17'),\n",
       " (20, 2, '2023-06-03'),\n",
       " (21, 8, '2023-06-02'),\n",
       " (22, 8, '2023-06-24'),\n",
       " (23, 8, '2023-01-27'),\n",
       " (24, 1, '2022-10-25'),\n",
       " (25, 4, '2023-04-20'),\n",
       " (26, 5, '2022-09-21'),\n",
       " (27, 3, '2023-04-16'),\n",
       " (28, 9, '2023-05-04'),\n",
       " (29, 8, '2023-06-15'),\n",
       " (30, 9, '2023-02-11'),\n",
       " (31, 7, '2022-09-25'),\n",
       " (32, 2, '2022-09-22'),\n",
       " (33, 10, '2022-10-30'),\n",
       " (34, 1, '2023-03-28'),\n",
       " (35, 5, '2022-12-14'),\n",
       " (36, 1, '2022-12-26'),\n",
       " (37, 1, '2022-07-21'),\n",
       " (38, 10, '2022-10-01'),\n",
       " (39, 3, '2022-12-19'),\n",
       " (40, 8, '2022-11-09'),\n",
       " (41, 7, '2023-02-21'),\n",
       " (42, 9, '2023-05-15'),\n",
       " (43, 4, '2023-07-04'),\n",
       " (44, 2, '2022-09-15'),\n",
       " (45, 2, '2022-09-21'),\n",
       " (46, 5, '2023-05-03'),\n",
       " (47, 10, '2023-05-03'),\n",
       " (48, 1, '2023-04-27'),\n",
       " (49, 10, '2023-01-29'),\n",
       " (50, 8, '2023-03-26'),\n",
       " (51, 6, '2022-12-16'),\n",
       " (52, 9, '2022-12-21'),\n",
       " (53, 6, '2022-11-19'),\n",
       " (54, 3, '2022-12-14'),\n",
       " (55, 2, '2023-04-18'),\n",
       " (56, 3, '2023-05-28'),\n",
       " (57, 10, '2022-08-23'),\n",
       " (58, 1, '2023-02-02'),\n",
       " (59, 9, '2023-04-15'),\n",
       " (60, 9, '2023-05-30'),\n",
       " (61, 9, '2023-04-01'),\n",
       " (62, 5, '2022-12-28'),\n",
       " (63, 3, '2022-07-13'),\n",
       " (64, 2, '2023-02-02'),\n",
       " (65, 6, '2023-01-25'),\n",
       " (66, 5, '2022-12-03'),\n",
       " (67, 8, '2022-09-09'),\n",
       " (68, 1, '2023-06-13'),\n",
       " (69, 9, '2023-02-10'),\n",
       " (70, 1, '2022-12-16'),\n",
       " (71, 6, '2022-09-01'),\n",
       " (72, 7, '2023-04-27'),\n",
       " (73, 5, '2023-02-20'),\n",
       " (74, 10, '2022-08-09'),\n",
       " (75, 9, '2022-12-17'),\n",
       " (76, 3, '2023-03-29'),\n",
       " (77, 6, '2023-04-24'),\n",
       " (78, 9, '2022-12-29'),\n",
       " (79, 2, '2022-11-27'),\n",
       " (80, 1, '2023-03-10'),\n",
       " (81, 9, '2022-12-02'),\n",
       " (82, 6, '2022-11-04'),\n",
       " (83, 5, '2022-12-31'),\n",
       " (84, 1, '2022-11-25'),\n",
       " (85, 8, '2023-02-24'),\n",
       " (86, 4, '2022-12-28'),\n",
       " (87, 4, '2022-10-07'),\n",
       " (88, 2, '2022-12-25'),\n",
       " (89, 4, '2022-09-01'),\n",
       " (90, 7, '2022-07-25'),\n",
       " (91, 1, '2022-08-10'),\n",
       " (92, 10, '2022-12-02'),\n",
       " (93, 3, '2022-08-31'),\n",
       " (94, 8, '2022-07-21'),\n",
       " (95, 4, '2023-01-18'),\n",
       " (96, 8, '2023-06-20'),\n",
       " (97, 2, '2022-12-23'),\n",
       " (98, 10, '2022-12-26'),\n",
       " (99, 5, '2022-11-10'),\n",
       " (100, 8, '2023-02-24')]"
      ]
     },
     "execution_count": 225,
     "metadata": {},
     "output_type": "execute_result"
    }
   ],
   "source": [
    "orders"
   ]
  },
  {
   "cell_type": "code",
   "execution_count": 30,
   "id": "6cef54cf",
   "metadata": {},
   "outputs": [
    {
     "data": {
      "text/plain": [
       "[(1, 7, 390728),\n",
       " (2, 1, 275902),\n",
       " (3, 6, 267036),\n",
       " (4, 2, 342702),\n",
       " (5, 9, 452523),\n",
       " (6, 3, 240069),\n",
       " (7, 2, 202327),\n",
       " (8, 3, 238306),\n",
       " (9, 3, 260018),\n",
       " (10, 3, 104306)]"
      ]
     },
     "execution_count": 30,
     "metadata": {},
     "output_type": "execute_result"
    }
   ],
   "source": [
    "contacts = []\n",
    "\n",
    "for i in range(1,11):\n",
    "    contact_id = i\n",
    "    cust_id = random.randint(1,9)\n",
    "    contact_no = random.randint(100000,500000)\n",
    "    contacts.append((contact_id,cust_id,contact_no))\n",
    "    \n",
    "contacts"
   ]
  },
  {
   "cell_type": "code",
   "execution_count": 39,
   "id": "f92374f1",
   "metadata": {},
   "outputs": [
    {
     "data": {
      "text/plain": [
       "[(1, 4, 'CITY1'),\n",
       " (2, 2, 'CITY2'),\n",
       " (3, 2, 'CITY3'),\n",
       " (4, 5, 'CITY4'),\n",
       " (5, 2, 'CITY5'),\n",
       " (6, 1, 'CITY6')]"
      ]
     },
     "execution_count": 39,
     "metadata": {},
     "output_type": "execute_result"
    }
   ],
   "source": [
    "addresses = []\n",
    "for i in range(1,7):\n",
    "    address_id = i\n",
    "    cust_id = cust_id = random.randint(1,9)\n",
    "    city = \"CITY\"+str(i)\n",
    "    addresses.append((address_id,cust_id,city))\n",
    "    \n",
    "addresses"
   ]
  },
  {
   "cell_type": "code",
   "execution_count": 12,
   "id": "a05eba56",
   "metadata": {},
   "outputs": [],
   "source": [
    "order_items = []\n",
    "\n",
    "order_items_id = []\n",
    "\n",
    "for i in range(1,50):\n",
    "    order_items_id.append(i)\n",
    "    \n",
    "order_id = []\n",
    "for i in range(1,50):\n",
    "    order_id.append(random.randint(11,100))\n",
    "    \n",
    "product_id = []\n",
    "\n",
    "for i in range(1,50):\n",
    "    product_id.append(random.randint(1,10))\n",
    "    \n",
    "order_quantity = []\n",
    "    \n",
    "for i in range(1,50):\n",
    "    order_quantity.append(random.randint(1,15)) \n",
    "\n",
    "    "
   ]
  },
  {
   "cell_type": "code",
   "execution_count": 13,
   "id": "ec9ae82b",
   "metadata": {},
   "outputs": [],
   "source": [
    "for i in range(0,len(order_items_id)):\n",
    "    order_items.append((order_items_id[i],order_id[i],product_id[i],order_quantity[i]))\n",
    "    \n"
   ]
  },
  {
   "cell_type": "code",
   "execution_count": 159,
   "id": "78fa2311",
   "metadata": {},
   "outputs": [
    {
     "data": {
      "text/plain": [
       "[(1, 36, 6, 1),\n",
       " (2, 82, 3, 8),\n",
       " (3, 94, 7, 4),\n",
       " (4, 98, 9, 12),\n",
       " (5, 50, 4, 10),\n",
       " (6, 100, 7, 11),\n",
       " (7, 61, 10, 11),\n",
       " (8, 38, 9, 14),\n",
       " (9, 89, 3, 10),\n",
       " (10, 96, 1, 12),\n",
       " (11, 59, 4, 14),\n",
       " (12, 77, 1, 8),\n",
       " (13, 11, 6, 6),\n",
       " (14, 91, 1, 12),\n",
       " (15, 67, 6, 3),\n",
       " (16, 76, 8, 7),\n",
       " (17, 31, 4, 2),\n",
       " (18, 79, 9, 11),\n",
       " (19, 47, 10, 2),\n",
       " (20, 62, 8, 2),\n",
       " (21, 79, 4, 5),\n",
       " (22, 43, 3, 5),\n",
       " (23, 57, 6, 14),\n",
       " (24, 93, 9, 1),\n",
       " (25, 47, 7, 8),\n",
       " (26, 40, 3, 12),\n",
       " (27, 80, 9, 7),\n",
       " (28, 23, 2, 13),\n",
       " (29, 39, 1, 13),\n",
       " (30, 59, 5, 10),\n",
       " (31, 32, 10, 14),\n",
       " (32, 82, 6, 12),\n",
       " (33, 24, 1, 7),\n",
       " (34, 47, 4, 1),\n",
       " (35, 64, 1, 6),\n",
       " (36, 36, 5, 4),\n",
       " (37, 93, 5, 12),\n",
       " (38, 38, 4, 13),\n",
       " (39, 49, 3, 3),\n",
       " (40, 80, 10, 7),\n",
       " (41, 29, 7, 3),\n",
       " (42, 53, 2, 6),\n",
       " (43, 92, 5, 1),\n",
       " (44, 68, 7, 2),\n",
       " (45, 30, 4, 8),\n",
       " (46, 11, 6, 1),\n",
       " (47, 23, 9, 7),\n",
       " (48, 16, 5, 1),\n",
       " (49, 40, 4, 10)]"
      ]
     },
     "execution_count": 159,
     "metadata": {},
     "output_type": "execute_result"
    }
   ],
   "source": [
    "order_items"
   ]
  },
  {
   "cell_type": "code",
   "execution_count": 20,
   "id": "5691c441",
   "metadata": {},
   "outputs": [
    {
     "data": {
      "text/plain": [
       "[]"
      ]
     },
     "execution_count": 20,
     "metadata": {},
     "output_type": "execute_result"
    }
   ],
   "source": [
    "# Close and reopen the cursor\n",
    "for customer in customers:\n",
    "    cur.execute(\"INSERT INTO Customers (cust_id, cust_name, cust_email) VALUES (%s, %s, %s)\", customer)\n",
    "\n",
    "cur.fetchall()  # Fetch and consume the results of the previous query\n"
   ]
  },
  {
   "cell_type": "code",
   "execution_count": 21,
   "id": "02d16232",
   "metadata": {},
   "outputs": [
    {
     "data": {
      "text/plain": [
       "[(1, 'Customer1', 'Customer1@example.com'),\n",
       " (2, 'Customer2', 'Customer2@example.com'),\n",
       " (3, 'Customer3', 'Customer3@example.com'),\n",
       " (4, 'Customer4', 'Customer4@example.com'),\n",
       " (5, 'Customer5', 'Customer5@example.com'),\n",
       " (6, 'Customer6', 'Customer6@example.com'),\n",
       " (7, 'Customer7', 'Customer7@example.com'),\n",
       " (8, 'Customer8', 'Customer8@example.com'),\n",
       " (9, 'Customer9', 'Customer9@example.com'),\n",
       " (10, 'Customer10', 'Customer10@example.com')]"
      ]
     },
     "execution_count": 21,
     "metadata": {},
     "output_type": "execute_result"
    }
   ],
   "source": [
    "cur.execute(\"SELECT * FROM Customers\")\n",
    "cur.fetchall()"
   ]
  },
  {
   "cell_type": "code",
   "execution_count": 23,
   "id": "74d28e58",
   "metadata": {},
   "outputs": [
    {
     "data": {
      "text/plain": [
       "[]"
      ]
     },
     "execution_count": 23,
     "metadata": {},
     "output_type": "execute_result"
    }
   ],
   "source": [
    "# Insert data into Products table\n",
    "for product in products:\n",
    "    cur.execute(\"INSERT INTO Products (product_id, product_name, product_price, product_category) VALUES (%s, %s, %s, %s)\", product)\n",
    "\n",
    "cur.fetchall()  # Fetch and consume the results of the previous query"
   ]
  },
  {
   "cell_type": "code",
   "execution_count": 24,
   "id": "c124917f",
   "metadata": {
    "scrolled": true
   },
   "outputs": [
    {
     "data": {
      "text/plain": [
       "[(1, 'Product9', '206', 'Apparel'),\n",
       " (2, 'Product2', '558', 'Home Goods'),\n",
       " (3, 'Product8', '701', 'Electronics'),\n",
       " (4, 'Product1', '450', 'Apparel'),\n",
       " (5, 'Product1', '495', 'Apparel'),\n",
       " (6, 'Product11', '411', 'Electronics'),\n",
       " (7, 'Product5', '552', 'Electronics'),\n",
       " (8, 'Product2', '138', 'Home Goods'),\n",
       " (9, 'Product3', '541', 'Apparel'),\n",
       " (10, 'Product4', '942', 'Apparel')]"
      ]
     },
     "execution_count": 24,
     "metadata": {},
     "output_type": "execute_result"
    }
   ],
   "source": [
    "cur.execute(\"SELECT * FROM Products\")\n",
    "cur.fetchall()"
   ]
  },
  {
   "cell_type": "code",
   "execution_count": 9,
   "id": "c23f45f2",
   "metadata": {
    "scrolled": true
   },
   "outputs": [
    {
     "data": {
      "text/plain": [
       "[(1, 6, '2022-10-11'),\n",
       " (2, 2, '2022-08-30'),\n",
       " (3, 3, '2023-01-07'),\n",
       " (4, 5, '2022-12-08'),\n",
       " (5, 4, '2023-04-14'),\n",
       " (6, 8, '2023-03-17'),\n",
       " (7, 3, '2023-01-15'),\n",
       " (8, 9, '2022-10-11'),\n",
       " (9, 10, '2022-11-29'),\n",
       " (10, 1, '2022-07-17'),\n",
       " (11, 6, '2022-12-13'),\n",
       " (12, 5, '2023-03-27'),\n",
       " (13, 7, '2023-06-01'),\n",
       " (14, 8, '2023-02-07'),\n",
       " (15, 2, '2022-09-30'),\n",
       " (16, 8, '2022-07-18'),\n",
       " (17, 4, '2022-09-15'),\n",
       " (18, 10, '2022-08-08'),\n",
       " (19, 2, '2023-05-18'),\n",
       " (20, 2, '2023-02-28'),\n",
       " (21, 10, '2023-02-11'),\n",
       " (22, 6, '2022-08-22'),\n",
       " (23, 9, '2022-07-13'),\n",
       " (24, 5, '2023-01-05'),\n",
       " (25, 5, '2023-04-09'),\n",
       " (26, 7, '2022-12-01'),\n",
       " (27, 9, '2022-11-09'),\n",
       " (28, 10, '2023-01-02'),\n",
       " (29, 10, '2022-10-20'),\n",
       " (30, 8, '2023-07-08'),\n",
       " (31, 10, '2022-12-04'),\n",
       " (32, 9, '2023-06-07'),\n",
       " (33, 4, '2023-05-29'),\n",
       " (34, 10, '2022-09-20'),\n",
       " (35, 3, '2022-12-11'),\n",
       " (36, 9, '2023-05-30'),\n",
       " (37, 2, '2023-03-24'),\n",
       " (38, 5, '2023-01-31'),\n",
       " (39, 3, '2022-07-23'),\n",
       " (40, 1, '2022-07-22'),\n",
       " (41, 7, '2022-07-18'),\n",
       " (42, 3, '2023-06-06'),\n",
       " (43, 9, '2023-06-08'),\n",
       " (44, 1, '2023-01-07'),\n",
       " (45, 7, '2023-03-18'),\n",
       " (46, 1, '2023-05-27'),\n",
       " (47, 3, '2023-05-19'),\n",
       " (48, 5, '2022-11-23'),\n",
       " (49, 3, '2023-03-03'),\n",
       " (50, 6, '2022-09-01'),\n",
       " (51, 10, '2023-03-16'),\n",
       " (52, 8, '2023-03-27'),\n",
       " (53, 2, '2022-11-27'),\n",
       " (54, 10, '2023-06-01'),\n",
       " (55, 4, '2023-01-30'),\n",
       " (56, 3, '2022-08-19'),\n",
       " (57, 4, '2023-05-08'),\n",
       " (58, 8, '2022-11-25'),\n",
       " (59, 3, '2022-09-20'),\n",
       " (60, 4, '2022-08-17'),\n",
       " (61, 4, '2023-02-03'),\n",
       " (62, 10, '2023-02-25'),\n",
       " (63, 7, '2022-11-20'),\n",
       " (64, 8, '2022-12-29'),\n",
       " (65, 10, '2023-04-30'),\n",
       " (66, 10, '2022-09-12'),\n",
       " (67, 1, '2023-06-22'),\n",
       " (68, 1, '2022-08-25'),\n",
       " (69, 9, '2022-11-29'),\n",
       " (70, 2, '2023-06-16'),\n",
       " (71, 2, '2023-01-09'),\n",
       " (72, 9, '2023-05-27'),\n",
       " (73, 2, '2022-08-06'),\n",
       " (74, 7, '2022-07-19'),\n",
       " (75, 3, '2022-07-20'),\n",
       " (76, 7, '2023-03-11'),\n",
       " (77, 4, '2023-02-23'),\n",
       " (78, 6, '2022-12-10'),\n",
       " (79, 4, '2022-09-08'),\n",
       " (80, 9, '2022-11-17'),\n",
       " (81, 2, '2023-02-15'),\n",
       " (82, 1, '2023-03-26'),\n",
       " (83, 6, '2023-05-03'),\n",
       " (84, 1, '2023-02-20'),\n",
       " (85, 2, '2023-03-24'),\n",
       " (86, 8, '2022-11-20'),\n",
       " (87, 5, '2023-06-24'),\n",
       " (88, 9, '2023-02-09'),\n",
       " (89, 5, '2022-07-26'),\n",
       " (90, 10, '2023-04-24'),\n",
       " (91, 5, '2023-05-22'),\n",
       " (92, 9, '2022-11-30'),\n",
       " (93, 9, '2022-12-25'),\n",
       " (94, 10, '2022-07-29'),\n",
       " (95, 6, '2023-01-10'),\n",
       " (96, 5, '2022-12-13'),\n",
       " (97, 3, '2023-06-11'),\n",
       " (98, 2, '2022-08-22'),\n",
       " (99, 8, '2022-10-06'),\n",
       " (100, 3, '2023-06-21')]"
      ]
     },
     "execution_count": 9,
     "metadata": {},
     "output_type": "execute_result"
    }
   ],
   "source": [
    "orders"
   ]
  },
  {
   "cell_type": "code",
   "execution_count": 25,
   "id": "71385989",
   "metadata": {},
   "outputs": [
    {
     "data": {
      "text/plain": [
       "[(556058, 8),\n",
       " (673544, 10),\n",
       " (835786, 7),\n",
       " (358407, 3),\n",
       " (883157, 2),\n",
       " (605788, 10),\n",
       " (128568, 5),\n",
       " (546285, 8),\n",
       " (754539, 4),\n",
       " (660995, 1)]"
      ]
     },
     "execution_count": 25,
     "metadata": {},
     "output_type": "execute_result"
    }
   ],
   "source": [
    "contacts"
   ]
  },
  {
   "cell_type": "code",
   "execution_count": null,
   "id": "08927c2c",
   "metadata": {},
   "outputs": [],
   "source": [
    "for contact in contacts:\n",
    "    cur.execute(\"INSERT INTO Contacts (contact_id, cust_id,contact_no) VALUES (%s, %s,%s)\", contact)\n"
   ]
  },
  {
   "cell_type": "code",
   "execution_count": null,
   "id": "21b10281",
   "metadata": {},
   "outputs": [],
   "source": [
    "for address in addresses:\n",
    "    cur.execute(\"INSERT INTO Address (address_id, cust_id,city) VALUES (%s, %s,%s)\", address)\n"
   ]
  },
  {
   "cell_type": "code",
   "execution_count": null,
   "id": "7d5f8c8c",
   "metadata": {},
   "outputs": [],
   "source": [
    "for order in orders:\n",
    "    cur.execute(\"INSERT INTO Orders (order_id, cust_id, order_date) VALUES (%s, %s, %s)\", order)\n"
   ]
  },
  {
   "cell_type": "code",
   "execution_count": 46,
   "id": "6dab76c7",
   "metadata": {},
   "outputs": [],
   "source": [
    "for i in order_items:\n",
    "    cur.execute(\"INSERT INTO Order_item (order_item_id, order_id, product_id, order_quantity) VALUES (%s, %s, %s, %s)\", i)\n"
   ]
  },
  {
   "cell_type": "code",
   "execution_count": 49,
   "id": "f271233f",
   "metadata": {},
   "outputs": [
    {
     "name": "stdout",
     "output_type": "stream",
     "text": [
      "Customers Data:\n",
      "['cust_id', 'cust_name', 'cust_email']\n",
      "(1, 'Customer1', 'Customer1@example.com')\n",
      "(2, 'Customer2', 'Customer2@example.com')\n",
      "(3, 'Customer3', 'Customer3@example.com')\n",
      "(4, 'Customer4', 'Customer4@example.com')\n",
      "(5, 'Customer5', 'Customer5@example.com')\n",
      "(6, 'Customer6', 'Customer6@example.com')\n",
      "(7, 'Customer7', 'Customer7@example.com')\n",
      "(8, 'Customer8', 'Customer8@example.com')\n",
      "(9, 'Customer9', 'Customer9@example.com')\n",
      "(10, 'Customer10', 'Customer10@example.com')\n",
      "\n",
      "Products Data:\n",
      "['product_id', 'product_name', 'product_price', 'product_category']\n",
      "(1, 'Product9', '206', 'Apparel')\n",
      "(2, 'Product2', '558', 'Home Goods')\n",
      "(3, 'Product8', '701', 'Electronics')\n",
      "(4, 'Product1', '450', 'Apparel')\n",
      "(5, 'Product1', '495', 'Apparel')\n",
      "(6, 'Product11', '411', 'Electronics')\n",
      "(7, 'Product5', '552', 'Electronics')\n",
      "(8, 'Product2', '138', 'Home Goods')\n",
      "(9, 'Product3', '541', 'Apparel')\n",
      "(10, 'Product4', '942', 'Apparel')\n",
      "\n",
      "Orders Data:\n",
      "['order_id', 'cust_id', 'order_date']\n",
      "(1, 3, datetime.datetime(2023, 1, 16, 0, 0))\n",
      "(2, 7, datetime.datetime(2022, 9, 6, 0, 0))\n",
      "(3, 6, datetime.datetime(2022, 11, 21, 0, 0))\n",
      "(4, 6, datetime.datetime(2023, 4, 17, 0, 0))\n",
      "(5, 3, datetime.datetime(2023, 4, 28, 0, 0))\n",
      "(6, 1, datetime.datetime(2022, 10, 16, 0, 0))\n",
      "(7, 2, datetime.datetime(2023, 6, 28, 0, 0))\n",
      "(8, 3, datetime.datetime(2023, 2, 10, 0, 0))\n",
      "(9, 7, datetime.datetime(2022, 7, 24, 0, 0))\n",
      "(10, 2, datetime.datetime(2023, 2, 20, 0, 0))\n",
      "(11, 4, datetime.datetime(2023, 2, 20, 0, 0))\n",
      "(12, 9, datetime.datetime(2023, 1, 29, 0, 0))\n",
      "(13, 7, datetime.datetime(2023, 6, 23, 0, 0))\n",
      "(14, 8, datetime.datetime(2022, 11, 1, 0, 0))\n",
      "(15, 7, datetime.datetime(2022, 12, 17, 0, 0))\n",
      "(16, 9, datetime.datetime(2022, 11, 29, 0, 0))\n",
      "(17, 9, datetime.datetime(2023, 6, 8, 0, 0))\n",
      "(18, 6, datetime.datetime(2023, 3, 5, 0, 0))\n",
      "(19, 9, datetime.datetime(2023, 4, 26, 0, 0))\n",
      "(20, 7, datetime.datetime(2023, 2, 15, 0, 0))\n",
      "(21, 5, datetime.datetime(2023, 5, 10, 0, 0))\n",
      "(22, 7, datetime.datetime(2022, 10, 13, 0, 0))\n",
      "(23, 9, datetime.datetime(2022, 8, 3, 0, 0))\n",
      "(24, 5, datetime.datetime(2023, 1, 29, 0, 0))\n",
      "(25, 4, datetime.datetime(2022, 8, 12, 0, 0))\n",
      "(26, 1, datetime.datetime(2022, 10, 20, 0, 0))\n",
      "(27, 7, datetime.datetime(2023, 6, 27, 0, 0))\n",
      "(28, 3, datetime.datetime(2022, 7, 16, 0, 0))\n",
      "(29, 9, datetime.datetime(2023, 1, 27, 0, 0))\n",
      "(30, 4, datetime.datetime(2023, 4, 30, 0, 0))\n",
      "(31, 3, datetime.datetime(2023, 2, 23, 0, 0))\n",
      "(32, 5, datetime.datetime(2022, 12, 16, 0, 0))\n",
      "(33, 7, datetime.datetime(2022, 10, 26, 0, 0))\n",
      "(34, 4, datetime.datetime(2022, 8, 13, 0, 0))\n",
      "(35, 8, datetime.datetime(2022, 12, 13, 0, 0))\n",
      "(36, 3, datetime.datetime(2023, 6, 12, 0, 0))\n",
      "(37, 9, datetime.datetime(2022, 9, 6, 0, 0))\n",
      "(38, 1, datetime.datetime(2023, 3, 29, 0, 0))\n",
      "(39, 9, datetime.datetime(2023, 2, 25, 0, 0))\n",
      "(40, 9, datetime.datetime(2023, 1, 24, 0, 0))\n",
      "(41, 7, datetime.datetime(2022, 8, 27, 0, 0))\n",
      "(42, 7, datetime.datetime(2023, 5, 12, 0, 0))\n",
      "(43, 8, datetime.datetime(2022, 10, 13, 0, 0))\n",
      "(44, 5, datetime.datetime(2022, 8, 29, 0, 0))\n",
      "(45, 4, datetime.datetime(2022, 9, 26, 0, 0))\n",
      "(46, 4, datetime.datetime(2023, 3, 31, 0, 0))\n",
      "(47, 7, datetime.datetime(2022, 12, 11, 0, 0))\n",
      "(48, 1, datetime.datetime(2022, 10, 23, 0, 0))\n",
      "(49, 5, datetime.datetime(2022, 7, 23, 0, 0))\n",
      "(50, 8, datetime.datetime(2022, 10, 14, 0, 0))\n",
      "(51, 7, datetime.datetime(2023, 5, 3, 0, 0))\n",
      "(52, 3, datetime.datetime(2022, 9, 23, 0, 0))\n",
      "(53, 1, datetime.datetime(2022, 9, 23, 0, 0))\n",
      "(54, 8, datetime.datetime(2023, 2, 10, 0, 0))\n",
      "(55, 8, datetime.datetime(2022, 10, 8, 0, 0))\n",
      "(56, 8, datetime.datetime(2023, 4, 5, 0, 0))\n",
      "(57, 5, datetime.datetime(2023, 3, 7, 0, 0))\n",
      "(58, 9, datetime.datetime(2022, 9, 11, 0, 0))\n",
      "(59, 7, datetime.datetime(2023, 4, 1, 0, 0))\n",
      "(60, 1, datetime.datetime(2023, 4, 1, 0, 0))\n",
      "(61, 3, datetime.datetime(2023, 6, 24, 0, 0))\n",
      "(62, 9, datetime.datetime(2023, 4, 19, 0, 0))\n",
      "(63, 8, datetime.datetime(2023, 4, 16, 0, 0))\n",
      "(64, 4, datetime.datetime(2022, 7, 26, 0, 0))\n",
      "(65, 6, datetime.datetime(2023, 1, 6, 0, 0))\n",
      "(66, 6, datetime.datetime(2022, 9, 18, 0, 0))\n",
      "(67, 6, datetime.datetime(2023, 2, 13, 0, 0))\n",
      "(68, 2, datetime.datetime(2023, 1, 21, 0, 0))\n",
      "(69, 4, datetime.datetime(2023, 6, 16, 0, 0))\n",
      "(70, 9, datetime.datetime(2023, 4, 15, 0, 0))\n",
      "(71, 5, datetime.datetime(2023, 2, 28, 0, 0))\n",
      "(72, 8, datetime.datetime(2023, 6, 12, 0, 0))\n",
      "(73, 4, datetime.datetime(2023, 1, 30, 0, 0))\n",
      "(74, 8, datetime.datetime(2023, 2, 6, 0, 0))\n",
      "(75, 6, datetime.datetime(2022, 10, 14, 0, 0))\n",
      "(76, 1, datetime.datetime(2022, 10, 30, 0, 0))\n",
      "(77, 1, datetime.datetime(2022, 12, 17, 0, 0))\n",
      "(78, 1, datetime.datetime(2022, 11, 8, 0, 0))\n",
      "(79, 4, datetime.datetime(2023, 6, 28, 0, 0))\n",
      "(80, 8, datetime.datetime(2023, 1, 4, 0, 0))\n",
      "(81, 6, datetime.datetime(2022, 8, 14, 0, 0))\n",
      "(82, 9, datetime.datetime(2022, 11, 3, 0, 0))\n",
      "(83, 3, datetime.datetime(2023, 4, 11, 0, 0))\n",
      "(84, 7, datetime.datetime(2022, 12, 17, 0, 0))\n",
      "(85, 4, datetime.datetime(2023, 2, 19, 0, 0))\n",
      "(86, 6, datetime.datetime(2023, 3, 26, 0, 0))\n",
      "(87, 7, datetime.datetime(2022, 9, 15, 0, 0))\n",
      "(88, 4, datetime.datetime(2023, 6, 15, 0, 0))\n",
      "(89, 2, datetime.datetime(2022, 12, 22, 0, 0))\n",
      "(90, 8, datetime.datetime(2022, 10, 27, 0, 0))\n",
      "(91, 3, datetime.datetime(2022, 7, 30, 0, 0))\n",
      "(92, 8, datetime.datetime(2023, 4, 1, 0, 0))\n",
      "(93, 1, datetime.datetime(2022, 7, 21, 0, 0))\n",
      "(94, 6, datetime.datetime(2022, 7, 20, 0, 0))\n",
      "(95, 9, datetime.datetime(2023, 4, 29, 0, 0))\n",
      "(96, 3, datetime.datetime(2022, 12, 30, 0, 0))\n",
      "(97, 8, datetime.datetime(2023, 4, 26, 0, 0))\n",
      "(98, 7, datetime.datetime(2022, 10, 20, 0, 0))\n",
      "(99, 3, datetime.datetime(2022, 11, 27, 0, 0))\n",
      "(100, 1, datetime.datetime(2022, 11, 5, 0, 0))\n",
      "\n",
      "Contacts Data:\n",
      "['contact_id', 'cust_id', 'contact_no']\n",
      "(1, 7, 390728)\n",
      "(2, 1, 275902)\n",
      "(3, 6, 267036)\n",
      "(4, 2, 342702)\n",
      "(5, 9, 452523)\n",
      "(6, 3, 240069)\n",
      "(7, 2, 202327)\n",
      "(8, 3, 238306)\n",
      "(9, 3, 260018)\n",
      "(10, 3, 104306)\n",
      "\n",
      "Order_item Data:\n",
      "['order_item_id', 'order_id', 'product_id', 'order_quantity']\n",
      "(1, 92, 4, 7)\n",
      "(2, 15, 3, 8)\n",
      "(3, 86, 6, 3)\n",
      "(4, 33, 7, 1)\n",
      "(5, 18, 5, 10)\n",
      "(6, 48, 8, 1)\n",
      "(7, 26, 4, 13)\n",
      "(8, 68, 8, 1)\n",
      "(9, 83, 6, 10)\n",
      "(10, 87, 1, 7)\n",
      "(11, 90, 8, 4)\n",
      "(12, 48, 8, 2)\n",
      "(13, 94, 6, 12)\n",
      "(14, 38, 5, 3)\n",
      "(15, 57, 10, 11)\n",
      "(16, 79, 7, 14)\n",
      "(17, 100, 4, 11)\n",
      "(18, 76, 7, 2)\n",
      "(19, 50, 3, 9)\n",
      "(20, 100, 4, 5)\n",
      "(21, 37, 6, 10)\n",
      "(22, 88, 7, 11)\n",
      "(23, 68, 5, 13)\n",
      "(24, 67, 2, 5)\n",
      "(25, 79, 7, 1)\n",
      "(26, 78, 7, 10)\n",
      "(27, 56, 8, 1)\n",
      "(28, 73, 2, 15)\n",
      "(29, 25, 6, 4)\n",
      "(30, 36, 1, 6)\n",
      "(31, 73, 2, 4)\n",
      "(32, 52, 4, 2)\n",
      "(33, 37, 10, 13)\n",
      "(34, 87, 4, 9)\n",
      "(35, 24, 8, 2)\n",
      "(36, 79, 4, 15)\n",
      "(37, 45, 3, 14)\n",
      "(38, 27, 4, 2)\n",
      "(39, 44, 10, 1)\n",
      "(40, 38, 8, 7)\n",
      "(41, 95, 6, 1)\n",
      "(42, 41, 4, 9)\n",
      "(43, 59, 2, 11)\n",
      "(44, 19, 6, 9)\n",
      "(45, 88, 9, 10)\n",
      "(46, 12, 3, 4)\n",
      "(47, 84, 5, 12)\n",
      "(48, 81, 1, 3)\n",
      "(49, 82, 7, 1)\n"
     ]
    }
   ],
   "source": [
    "# Select all rows from the Customers table\n",
    "cur.execute(\"SELECT * FROM Customers\")\n",
    "customers_data = cur.fetchall()\n",
    "customers_columns = [desc[0] for desc in cur.description]\n",
    "\n",
    "# Select all rows from the Products table\n",
    "cur.execute(\"SELECT * FROM Products\")\n",
    "products_data = cur.fetchall()\n",
    "products_columns = [desc[0] for desc in cur.description]\n",
    "\n",
    "# Select all rows from the Orders table\n",
    "cur.execute(\"SELECT * FROM Orders\")\n",
    "orders_data = cur.fetchall()\n",
    "orders_columns = [desc[0] for desc in cur.description]\n",
    "\n",
    "# Select all rows from the Contacts table\n",
    "cur.execute(\"SELECT * FROM Contacts\")\n",
    "contacts_data = cur.fetchall()\n",
    "contacts_columns = [desc[0] for desc in cur.description]\n",
    "\n",
    "# Select all rows from the Order_item table\n",
    "cur.execute(\"SELECT * FROM Order_item\")\n",
    "order_items_data = cur.fetchall()\n",
    "order_items_columns = [desc[0] for desc in cur.description]\n",
    "\n",
    "# Print the data from each table with column headers\n",
    "print(\"Customers Data:\")\n",
    "print(customers_columns)\n",
    "for row in customers_data:\n",
    "    print(row)\n",
    "\n",
    "print(\"\\nProducts Data:\")\n",
    "print(products_columns)\n",
    "for row in products_data:\n",
    "    print(row)\n",
    "\n",
    "print(\"\\nOrders Data:\")\n",
    "print(orders_columns)\n",
    "for row in orders_data:\n",
    "    print(row)\n",
    "\n",
    "print(\"\\nContacts Data:\")\n",
    "print(contacts_columns)\n",
    "for row in contacts_data:\n",
    "    print(row)\n",
    "\n",
    "print(\"\\nOrder_item Data:\")\n",
    "print(order_items_columns)\n",
    "for row in order_items_data:\n",
    "    print(row)\n"
   ]
  },
  {
   "cell_type": "code",
   "execution_count": null,
   "id": "fac334c5",
   "metadata": {},
   "outputs": [],
   "source": []
  }
 ],
 "metadata": {
  "kernelspec": {
   "display_name": "Python 3",
   "language": "python",
   "name": "python3"
  },
  "language_info": {
   "codemirror_mode": {
    "name": "ipython",
    "version": 3
   },
   "file_extension": ".py",
   "mimetype": "text/x-python",
   "name": "python",
   "nbconvert_exporter": "python",
   "pygments_lexer": "ipython3",
   "version": "3.8.8"
  }
 },
 "nbformat": 4,
 "nbformat_minor": 5
}
